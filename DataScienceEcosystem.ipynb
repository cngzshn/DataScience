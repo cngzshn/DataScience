{
 "cells": [
  {
   "cell_type": "markdown",
   "id": "dedc70aa-20c6-4acc-80cc-d7415d7025af",
   "metadata": {},
   "source": [
    "## Data Science Tools and Ecosystem"
   ]
  },
  {
   "cell_type": "markdown",
   "id": "6f63475d-0df4-41be-911d-a67914f501c2",
   "metadata": {},
   "source": [
    "In this notebook, Data Science Toolsand Ecosystem are summarized."
   ]
  },
  {
   "cell_type": "markdown",
   "id": "d8d79b7e-32c2-4125-a62f-c1f3e3b050ea",
   "metadata": {},
   "source": [
    "Some of the popular languages that Data Scientists use are:\n",
    "\n",
    "1. Python.\n",
    "2. R.\n",
    "3. SQL.\n",
    "4. Java.\n",
    "5. Julia.\n",
    "6. Scala.\n",
    "7. C/C++.\n",
    "8. JavaScript."
   ]
  },
  {
   "cell_type": "markdown",
   "id": "5763697e-788f-4e62-a4e6-9739cecb4f6c",
   "metadata": {},
   "source": [
    "Some of the commonly used libraries used by Data Scientists include:\n",
    "\n",
    "1. TensorFlow.\n",
    "2. NumPy.\n",
    "3. SciPy.\n",
    "4. Pandas.\n",
    "5. Matplotlib.\n",
    "6. Keras.\n",
    "7. SciKit-Learn.\n",
    "8. PyTorch.\n",
    "9. Scrapy.\n",
    "10. BeautifulSoup.\n",
    "11. LightGBM.\n",
    "12. ELI5.\n",
    "13. Theano.\n",
    "14. NuPIC.\n",
    "15. Ramp."
   ]
  },
  {
   "cell_type": "markdown",
   "id": "09b8fb99-e1ba-4760-9283-ddb36dd4b540",
   "metadata": {},
   "source": [
    "|Data Science Tools|\n",
    "|---|\n",
    "|SAS|\n",
    "|Apache Hadoop|\n",
    "|TensorFlow|"
   ]
  },
  {
   "cell_type": "markdown",
   "id": "5bbf6ec0-977f-436e-8af6-74ed15681bfe",
   "metadata": {},
   "source": [
    "### Below are a few examples of evaluating arithmetic expressions in Python"
   ]
  },
  {
   "cell_type": "code",
   "execution_count": 1,
   "id": "5a0a51ca-5bfd-41e7-8dec-f3d8029a8923",
   "metadata": {},
   "outputs": [
    {
     "data": {
      "text/plain": [
       "22"
      ]
     },
     "execution_count": 1,
     "metadata": {},
     "output_type": "execute_result"
    }
   ],
   "source": [
    "# Arithmetic operations\n",
    "(2*8)+6"
   ]
  },
  {
   "cell_type": "code",
   "execution_count": 2,
   "id": "c53a68ca-6e38-4b0e-8d78-72f91c2e2f6a",
   "metadata": {},
   "outputs": [
    {
     "data": {
      "text/plain": [
       "6.666666666666667"
      ]
     },
     "execution_count": 2,
     "metadata": {},
     "output_type": "execute_result"
    }
   ],
   "source": [
    "# This will convert 400 minutes to hours by diving by 60\n",
    "400/60"
   ]
  },
  {
   "cell_type": "markdown",
   "id": "f6c34f94-d62a-4ecc-a53a-435c46a2b443",
   "metadata": {},
   "source": [
    "__Objective__\n",
    "* List popular languages for Data Science\n",
    "* List popular libraries for Data Science\n",
    "* List of Well known Data Science Tools\n",
    "* How to Provide comments in the cell"
   ]
  },
  {
   "cell_type": "markdown",
   "id": "e94e3060-9d67-4423-9aa3-17b88ec4f686",
   "metadata": {},
   "source": [
    "## Author\n",
    "Cengiz Şahin"
   ]
  }
 ],
 "metadata": {
  "kernelspec": {
   "display_name": "Python 3 (ipykernel)",
   "language": "python",
   "name": "python3"
  },
  "language_info": {
   "codemirror_mode": {
    "name": "ipython",
    "version": 3
   },
   "file_extension": ".py",
   "mimetype": "text/x-python",
   "name": "python",
   "nbconvert_exporter": "python",
   "pygments_lexer": "ipython3",
   "version": "3.13.1"
  }
 },
 "nbformat": 4,
 "nbformat_minor": 5
}
